{
 "cells": [
  {
   "cell_type": "markdown",
   "metadata": {},
   "source": [
    "# Code documentation\n",
    "\n",
    "In this section, the code is described more thoroughly."
   ]
  },
  {
   "cell_type": "markdown",
   "metadata": {},
   "source": [
    "## Libraries\n",
    "\n",
    "The following libraries need to be imported for this program to run:"
   ]
  },
  {
   "cell_type": "code",
   "execution_count": 4,
   "metadata": {},
   "outputs": [],
   "source": [
    "import numpy as np\n",
    "import matplotlib.pyplot as plt\n",
    "import time\n",
    "from pathlib import Path\n",
    "from mpl_toolkits.axes_grid1 import make_axes_locatable"
   ]
  },
  {
   "cell_type": "markdown",
   "metadata": {},
   "source": [
    "## Configuration and initialization\n",
    "\n"
   ]
  },
  {
   "cell_type": "markdown",
   "metadata": {},
   "source": [
    "### Discretization\n",
    "\n"
   ]
  },
  {
   "cell_type": "code",
   "execution_count": 5,
   "metadata": {},
   "outputs": [],
   "source": [
    "# Constants\n",
    "NAN = np.nan\n",
    "\n",
    "# Geometry\n",
    "xmin = 0.\n",
    "xmax = 1.0\n",
    "ymin = 0.\n",
    "ymax = 1.0\n",
    "\n",
    "# Spatial discretization\n",
    "dx = 0.05\n",
    "dy = 0.05\n",
    "\n",
    "# Temporal discretization\n",
    "tMax = 5.\n",
    "dt = 0.05\n",
    "\n",
    "# Solver settings\n",
    "nit = 50  # iterations of pressure poisson equation\n",
    "\n",
    "# Upwind discretization\n",
    "gamma = 1"
   ]
  },
  {
   "cell_type": "markdown",
   "metadata": {},
   "source": [
    "### Momentum equations\n",
    "\n"
   ]
  },
  {
   "cell_type": "code",
   "execution_count": 6,
   "metadata": {},
   "outputs": [],
   "source": [
    "# Initial conditions\n",
    "p0 = 0\n",
    "u0 = 0\n",
    "v0 = 0\n",
    "\n",
    "# Boundary conditions\n",
    "\n",
    "# Wall x-velocity: [[S, N]\n",
    "#                   [W, E]], NAN = symmetry\n",
    "uWall = [[0., 1.],\n",
    "         [0., 0.]]\n",
    "# Wall y-velocity: [[S, N]\n",
    "#                   [W, E]], NAN = symmetry\n",
    "vWall = [[0., 0.],\n",
    "         [0., 0.]]\n",
    "# Wall pressure: [[S, N]\n",
    "#                 [W, E]], NAN = symmetry\n",
    "pWall = [[NAN, NAN],\n",
    "         [NAN, NAN]]\n",
    "\n",
    "# Material properties\n",
    "\n",
    "# Density\n",
    "rho = 1.0\n",
    "# Kinematic viscosity\n",
    "mu = 0.05"
   ]
  },
  {
   "cell_type": "markdown",
   "metadata": {},
   "source": [
    "### Visualization\n",
    "\n"
   ]
  },
  {
   "cell_type": "code",
   "execution_count": 7,
   "metadata": {},
   "outputs": [],
   "source": [
    "# Output control\n",
    "\n",
    "# Print step\n",
    "dtOut = 1.0\n",
    "# Plot step\n",
    "dtPlot = tMax\n",
    "\n",
    "# Plots\n",
    "\n",
    "# Figure size on screen\n",
    "figureSize = (7, 6)\n",
    "# Use inline graphics\n",
    "inlineGraphics = True\n",
    "\n",
    "# Plot definition\n",
    "plotContourVar = 'p'  # 'p', u, v, 'U', 'divU'\n",
    "plotFaceValues = True\n",
    "plotVelocityVectorsEvery = 1\n",
    "plotLevels = (-1, 1)\n",
    "colormap = 'bwr'\n",
    "\n",
    "# Save to file\n",
    "saveFiguresToFile = False\n",
    "figureFilename = 'liddrivencavity_Re100'\n",
    "\n",
    "# Profile\n",
    "writeProfile = False\n",
    "profileFilename = ''\n",
    "profilePoint = [0.5, 0.5]\n",
    "profileDirection = 0"
   ]
  },
  {
   "cell_type": "code",
   "execution_count": null,
   "metadata": {},
   "outputs": [],
   "source": []
  }
 ],
 "metadata": {
  "kernelspec": {
   "display_name": "Python 3",
   "language": "python",
   "name": "python3"
  },
  "language_info": {
   "codemirror_mode": {
    "name": "ipython",
    "version": 3
   },
   "file_extension": ".py",
   "mimetype": "text/x-python",
   "name": "python",
   "nbconvert_exporter": "python",
   "pygments_lexer": "ipython3",
   "version": "3.7.4"
  }
 },
 "nbformat": 4,
 "nbformat_minor": 2
}
